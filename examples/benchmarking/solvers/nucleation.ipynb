{
 "cells": [
  {
   "cell_type": "markdown",
   "metadata": {},
   "source": [
    "# Phase Field Benchmark 8c\n",
    "## Explicit nucleation, multiple seeds at random times\n",
    "FiPy implementation of problem 3 in *Nucleation Benchmark Problem*, Wenkun Wu *et al.*, January 16, 2020\n",
    "\n",
    "Based on problem 2.3 in *Benchmark problems for nucleation*, Tamás Pusztai, September 25, 2019\n",
    "\n",
    "Revised to [PFHub statement](https://pages.nist.gov/pfhub/benchmarks/benchmark8.ipynb/#Part-%28c%29)"
   ]
  },
  {
   "cell_type": "markdown",
   "metadata": {},
   "source": [
    "**Do not edit `nucleation.py`**. Generate the batch-runnable file from the notebook with\n",
    "```bash\n",
    "jupyter nbconvert nucleation.ipynb --to python\n",
    "```"
   ]
  },
  {
   "cell_type": "markdown",
   "metadata": {},
   "source": [
    "## Import Python modules"
   ]
  },
  {
   "cell_type": "code",
   "execution_count": 228,
   "metadata": {
    "ExecuteTime": {
     "end_time": "2019-10-13T11:27:53.359783Z",
     "start_time": "2019-10-13T11:27:51.129990Z"
    }
   },
   "outputs": [],
   "source": [
    "import argparse\n",
    "import os\n",
    "import re\n",
    "import sys\n",
    "\n",
    "import fipy as fp\n",
    "from fipy.tools import numerix as nmx\n",
    "from fipy.tools import parallelComm"
   ]
  },
  {
   "cell_type": "markdown",
   "metadata": {},
   "source": [
    "Jupyter notebook handles some things differently than from the commandline"
   ]
  },
  {
   "cell_type": "code",
   "execution_count": 229,
   "metadata": {
    "ExecuteTime": {
     "end_time": "2019-10-13T11:27:53.370454Z",
     "start_time": "2019-10-13T11:27:53.364756Z"
    }
   },
   "outputs": [],
   "source": [
    "try:\n",
    "    from IPython import get_ipython\n",
    "    isnotebook = get_ipython() is not None\n",
    "except:\n",
    "    isnotebook = False"
   ]
  },
  {
   "cell_type": "markdown",
   "metadata": {},
   "source": [
    "## Initialize\n",
    "### Load parameters"
   ]
  },
  {
   "cell_type": "code",
   "execution_count": 230,
   "metadata": {},
   "outputs": [
    {
     "data": {
      "text/plain": [
       "_StoreAction(option_strings=['--tolerance'], dest='tolerance', nargs=None, const=None, default=1e-10, type=<class 'float'>, choices=None, help='linear solver tolerance', metavar=None)"
      ]
     },
     "execution_count": 230,
     "metadata": {},
     "output_type": "execute_result"
    }
   ],
   "source": [
    "parser = argparse.ArgumentParser()\n",
    "parser.add_argument(\"--output\", help=\"directory to store results in\",\n",
    "                    default=os.getcwd())\n",
    "parser.add_argument(\"--store_by_solver\",\n",
    "                    help=\"store results in nested subdirectories based on solver,\"\n",
    "                    \"preconditioner, and system size\",\n",
    "                    action='store_true')\n",
    "parser.add_argument(\"--restart\", help=\"solution to initialize from\",\n",
    "                    default=None)\n",
    "parser.add_argument(\"--checkpoint_interval\", help=\"frequency to save results\",\n",
    "                    type=float, default=6.)\n",
    "parser.add_argument(\"--totaltime\", help=\"duration of full simulation\",\n",
    "                    type=float, default=600.)\n",
    "parser.add_argument(\"--numnuclei\", help=\"number of nuclei\",\n",
    "                    type=int, default=100)\n",
    "parser.add_argument(\"--factor\", help=\"fraction of critical nucleus size for new nuclei\",\n",
    "                    type=float, default=1.1)\n",
    "parser.add_argument(\"--nucleation_scale\", help=\"size of domain for nuclei\",\n",
    "                    type=float, default=1000)\n",
    "parser.add_argument(\"--numberOfElements\", help=\"number of total cells in a Grid2D\",\n",
    "                    type=int, default=1000000)\n",
    "parser.add_argument(\"--solver\", help=\"solver class to use\",\n",
    "                    choices=(\"pcg\", \"cgs\", \"gmres\", \"lu\"), default=\"pcg\")\n",
    "parser.add_argument(\"--preconditioner\", help=\"preconditioner class to use\",\n",
    "                    choices=(\"jacobi\", \"ilu\", \"ssor\", \"icc\", \"none\"), default=\"none\")\n",
    "parser.add_argument(\"--sweeps\", help=\"number of nonlinear sweeps to take\",\n",
    "                    type=int, default=5)\n",
    "parser.add_argument(\"--iterations\", help=\"maximum number of linear iterations to take for each sweep\",\n",
    "                    type=int, default=1000)\n",
    "parser.add_argument(\"--tolerance\", help=\"linear solver tolerance\",\n",
    "                    type=float, default=1e-10)"
   ]
  },
  {
   "cell_type": "markdown",
   "metadata": {},
   "source": [
    "### Set any parameters for interactive notebook"
   ]
  },
  {
   "cell_type": "code",
   "execution_count": 245,
   "metadata": {
    "ExecuteTime": {
     "end_time": "2019-10-13T11:27:53.395528Z",
     "start_time": "2019-10-13T11:27:53.389310Z"
    }
   },
   "outputs": [],
   "source": [
    "if isnotebook:\n",
    "    # argv = [\"--numberOfElements=10000\", \"--totaltime=1.2\", \"--checkpoint_interval=0.12\",\n",
    "    #         \"--nucleation_scale=100\", \"--output=nucleation6\"]\n",
    "    argv = [\"--numberOfElements=10000\", \"--nucleation_scale=100\", \"--output=nucleation16\"]\n",
    "else:\n",
    "    argv = None"
   ]
  },
  {
   "cell_type": "code",
   "execution_count": 246,
   "metadata": {},
   "outputs": [],
   "source": [
    "args, unknowns = parser.parse_known_args(args=argv)"
   ]
  },
  {
   "cell_type": "markdown",
   "metadata": {},
   "source": [
    "### Initialize mesh and solution variables\n",
    "\n",
    "Either restart from some `path/to/restart/t={time}.npz`, where the time is assigned to `elapsed`\n",
    "\n",
    "or\n",
    "\n",
    "Create a mesh based on parameters. Set\n",
    ">  the computational domain is ... 1000×1000 "
   ]
  },
  {
   "cell_type": "code",
   "execution_count": 247,
   "metadata": {},
   "outputs": [],
   "source": [
    "nx = ny = int(nmx.sqrt(args.numberOfElements))\n",
    "mesh = fp.Grid2D(nx=nx, ny=ny)\n",
    "phi = fp.CellVariable(mesh=mesh, name=\"$\\phi$\", value=0., hasOld=True)\n",
    "elapsed = 0."
   ]
  },
  {
   "cell_type": "code",
   "execution_count": 248,
   "metadata": {},
   "outputs": [],
   "source": [
    "if args.restart is not None:\n",
    "    data = nmx.load(args.restart)\n",
    "    phi.setValue(data[\"phi\"][:nx, :ny].flat)\n",
    "\n",
    "    # scanf(\"%g\") simulator\n",
    "    # https://docs.python.org/3/library/re.html#simulating-scanf\n",
    "    scanf_g = \"[-+]?(\\d+(\\.\\d*)?|\\.\\d+)([eE][-+]?\\d+)?\"\n",
    "    pattern = \".*t=({g})\\.npz\".format(g=scanf_g)\n",
    "    elapsed = float(re.match(pattern, args.restart).group(1))"
   ]
  },
  {
   "cell_type": "code",
   "execution_count": 249,
   "metadata": {
    "ExecuteTime": {
     "end_time": "2019-10-13T11:27:53.457100Z",
     "start_time": "2019-10-13T11:27:53.399834Z"
    }
   },
   "outputs": [],
   "source": [
    "x, y = mesh.cellCenters[0], mesh.cellCenters[1]\n",
    "X, Y = mesh.faceCenters[0], mesh.faceCenters[1]"
   ]
  },
  {
   "cell_type": "code",
   "execution_count": 250,
   "metadata": {
    "ExecuteTime": {
     "end_time": "2019-10-13T11:27:55.857436Z",
     "start_time": "2019-10-13T11:27:53.461310Z"
    }
   },
   "outputs": [
    {
     "data": {
      "image/png": "[encoded data removed]",
      "text/plain": [
       "<fipy.viewers.matplotlibViewer.matplotlib2DGridViewer.Matplotlib2DGridViewer at 0x17df14880>"
      ]
     },
     "metadata": {},
     "output_type": "display_data"
    },
    {
     "data": {
      "image/png": "[encoded data removed]",
      "text/plain": [
       "<Figure size 360x288 with 2 Axes>"
      ]
     },
     "metadata": {
      "needs_background": "light"
     },
     "output_type": "display_data"
    }
   ],
   "source": [
    "if isnotebook:\n",
    "    viewer = fp.Viewer(vars=phi, datamin=0., datamax=1.)\n",
    "    viewer.plot()"
   ]
  },
  {
   "cell_type": "markdown",
   "metadata": {},
   "source": [
    "## Create solver"
   ]
  },
  {
   "cell_type": "code",
   "execution_count": 251,
   "metadata": {},
   "outputs": [],
   "source": [
    "precon = None\n",
    "\n",
    "if args.preconditioner == \"jacobi\":\n",
    "    precon = fp.JacobiPreconditioner()\n",
    "elif args.preconditioner == \"ilu\":\n",
    "    precon = fp.ILUPreconditioner()\n",
    "elif args.preconditioner == \"ssor\":\n",
    "    precon = fp.SSORPreconditioner()\n",
    "elif args.preconditioner == \"icc\":\n",
    "    precon = fp.ICPreconditioner()\n",
    "elif args.preconditioner == \"none\":\n",
    "    precon = None\n",
    "\n",
    "if args.solver == \"cgs\":\n",
    "    solver_class = fp.LinearCGSSolver\n",
    "elif args.solver == \"gmres\":\n",
    "    solver_class = fp.LinearGMRESSolver\n",
    "elif args.solver == \"lu\":\n",
    "    if args.preconditioner != \"none\":\n",
    "        # preconditioned lu doesn't make any sense\n",
    "        exit()\n",
    "\n",
    "    solver_class = fp.LinearLUSolver\n",
    "elif args.solver == \"pcg\":\n",
    "    solver_class = fp.LinearPCGSolver\n",
    "\n",
    "solver = solver_class(tolerance=args.tolerance, criterion=\"initial\",\n",
    "                      iterations=args.iterations, precon=precon)"
   ]
  },
  {
   "cell_type": "markdown",
   "metadata": {
    "ExecuteTime": {
     "end_time": "2019-10-12T12:44:29.458892Z",
     "start_time": "2019-10-12T12:44:29.454698Z"
    }
   },
   "source": [
    "## Define governing equation"
   ]
  },
  {
   "cell_type": "markdown",
   "metadata": {},
   "source": [
    "> use only the nondimensional forms of the phase-field and nucleation equations, but without the tildes, for simplicity\n",
    "\n",
    "> [Set] the driving force to $\\Delta f = 1 / (6\\sqrt{2})$"
   ]
  },
  {
   "cell_type": "code",
   "execution_count": 252,
   "metadata": {
    "ExecuteTime": {
     "end_time": "2019-10-13T11:27:55.865085Z",
     "start_time": "2019-10-13T11:27:55.861571Z"
    }
   },
   "outputs": [],
   "source": [
    "Delta_f = 1. / (6 * nmx.sqrt(2.))"
   ]
  },
  {
   "cell_type": "markdown",
   "metadata": {},
   "source": [
    "> $$r_c = \\frac{1}{3\\sqrt{2}}\\frac{1}{\\Delta f} = 2.0$$"
   ]
  },
  {
   "cell_type": "code",
   "execution_count": 253,
   "metadata": {},
   "outputs": [],
   "source": [
    "rc = 2.0"
   ]
  },
  {
   "cell_type": "markdown",
   "metadata": {},
   "source": [
    "and define the governing equation \n",
    "> \\begin{align}\n",
    "\\frac{\\partial\\phi}{\\partial t} &= \\nabla^2\\phi - g'(\\phi) + \\Delta f p'(\\phi) \\tag{7}\n",
    "\\end{align}\n",
    "\n",
    "> $$g(\\phi) = \\phi^2(1 - \\phi)^2 \\qquad p(\\phi)=\\phi^3(10 - 15\\phi + 6\\phi^2)$$\n",
    "\n",
    "Following [`examples/phase/simple.py`](https://www.ctcms.nist.gov/fipy/examples/phase/generated/examples.phase.simple.html)\n",
    "\n",
    "\n",
    "\\begin{align}\n",
    "\\frac{\\partial\\phi}{\\partial t}\n",
    "&= \\nabla^2\\phi + m_\\phi \\phi (1 - \\phi) \\notag\n",
    "\\qquad\\text{for $m_\\phi \\equiv -2(1 - 2\\phi) + 30 \\phi (1 - \\phi) \\Delta f$} \\notag\n",
    "\\\\\n",
    "&= \\nabla^2\\phi + S \\notag\n",
    "\\\\\n",
    "&\\approx \\nabla^2\\phi + S|_\\text{old}\n",
    "+ \\left.{\\frac{\\partial S}{\\partial \\phi}}\\right|_\\text{old} (\\phi - \\phi_\\text{old}) \n",
    "\\notag \\\\\n",
    "&= \\nabla^2\\phi + \\left(S - \\frac{\\partial S}{\\partial \\phi} \\phi\\right)_\\text{old} \n",
    "+ \\left.{\\frac{\\partial S}{\\partial \\phi}}\\right|_\\text{old} \\phi \\notag\n",
    "\\\\\n",
    "&= \\nabla^2\\phi + S_0 + S_1 \\phi \\notag\n",
    "\\\\\n",
    "S_0 &\\equiv \\left(S - \\frac{\\partial S}{\\partial \\phi} \\phi\\right)_\\text{old}\n",
    "\\notag \\\\\n",
    "&= m_\\phi \\phi_\\text{old} (1 - \\phi_\\text{old}) - S_1 \\phi_\\text{old}\n",
    "\\notag \\\\\n",
    "S_1 &\\equiv \\left.{\\frac{\\partial S}{\\partial \\phi}}\\right|_\\text{old}\n",
    "\\notag \\\\\n",
    "&= \\frac{\\partial m_\\phi}{\\partial \\phi} \\phi (1 - \\phi) + m_\\phi (1 - 2\\phi)\n",
    "\\notag\n",
    "\\end{align}"
   ]
  },
  {
   "cell_type": "code",
   "execution_count": 254,
   "metadata": {
    "ExecuteTime": {
     "end_time": "2019-10-13T11:27:55.905447Z",
     "start_time": "2019-10-13T11:27:55.869494Z"
    }
   },
   "outputs": [],
   "source": [
    "mPhi = -2 * (1 - 2 * phi) + 30 * phi * (1 - phi) * Delta_f\n",
    "dmPhidPhi = 4 + 30 * (1 - 2 * phi) * Delta_f\n",
    "S1 = dmPhidPhi * phi * (1 - phi) + mPhi * (1 - 2 * phi)\n",
    "S0 = mPhi * phi * (1 - phi) - S1 * phi\n",
    "\n",
    "eq = (fp.TransientTerm() == \n",
    "      fp.DiffusionTerm(coeff=1.) + S0 + fp.ImplicitSourceTerm(coeff=S1))"
   ]
  },
  {
   "cell_type": "markdown",
   "metadata": {},
   "source": [
    "## Calculate total free energy\n",
    "\n",
    "> \\begin{align}\n",
    "F[\\phi] = \\int\\left[\\frac{1}{2}(\\nabla\\phi)^2 + g(\\phi) - \\Delta f p(\\phi)\\right]\\,dV \\tag{6}\n",
    "\\end{align}"
   ]
  },
  {
   "cell_type": "code",
   "execution_count": 255,
   "metadata": {
    "ExecuteTime": {
     "end_time": "2019-10-13T11:27:55.958325Z",
     "start_time": "2019-10-13T11:27:55.909442Z"
    }
   },
   "outputs": [],
   "source": [
    "ftot = (0.5 * phi.grad.mag**2\n",
    "        + phi**2 * (1 - phi)**2\n",
    "        - Delta_f * phi**3 * (10 - 15 * phi + 6 * phi**2))\n",
    "volumes = fp.CellVariable(mesh=mesh, value=mesh.cellVolumes)\n",
    "F = ftot.cellVolumeAverage * volumes.sum()"
   ]
  },
  {
   "cell_type": "markdown",
   "metadata": {},
   "source": [
    "## Define nucleation\n",
    "\n",
    "Generate supercritical seeds with $r_0 = 1.1r^∗$. When adding a new seed, simply add the $\\phi$ values given by the $\\phi(r)$ profile\n",
    "> \\begin{align}\n",
    "\\phi_i(\\vec{r}) &= \\frac{1}{2}\\left[1 - \\tanh\\left(\\frac{\\left|\\vec{r} - \\vec{r}_i\\right| - 1.1 r^*}{\\sqrt{2}}\\right)\\right]\\tag{18}\n",
    "\\end{align}\n",
    "\n",
    "to the $\\phi$ values already in the domain,\n",
    "\n",
    "> $\\phi$ is set to unity in regions of overlaps of nuclei"
   ]
  },
  {
   "cell_type": "code",
   "execution_count": 256,
   "metadata": {
    "ExecuteTime": {
     "end_time": "2019-10-13T11:27:55.967486Z",
     "start_time": "2019-10-13T11:27:55.962016Z"
    }
   },
   "outputs": [],
   "source": [
    "def nucleus(x0, y0, r0):\n",
    "    r = nmx.sqrt((x - x0)**2 + (y - y0)**2)\n",
    "\n",
    "    return (1 - nmx.tanh((r - r0) / nmx.sqrt(2.))) / 2"
   ]
  },
  {
   "cell_type": "markdown",
   "metadata": {},
   "source": [
    "### Determine nucleation times\n",
    "Either load nucleation times from `path/to/restart/nucleii.txt`, based on directory of `args.restart`\n",
    "\n",
    "or\n",
    "\n",
    "> 100 random nucleation times $t_i$ are generated, $i=1,\\ldots,100$, drawn from a uniform distribution in the interval $t_i \\in [0,600)$"
   ]
  },
  {
   "cell_type": "code",
   "execution_count": 257,
   "metadata": {
    "ExecuteTime": {
     "end_time": "2019-10-13T11:27:55.979827Z",
     "start_time": "2019-10-13T11:27:55.971903Z"
    }
   },
   "outputs": [],
   "source": [
    "if parallelComm.procID == 0:\n",
    "    if args.restart is not None:\n",
    "        fname = os.path.join(os.path.dirname(args.restart), \"nucleii.npy\")\n",
    "        nucleii = nmx.load(fname)\n",
    "    else:\n",
    "        times = nmx.random.random(args.numnuclei) * args.totaltime\n",
    "        times.sort()\n",
    "        nucleii = nmx.concatenate((times[..., nmx.newaxis],\n",
    "                                   (nmx.random.random((args.numnuclei, 2))\n",
    "                                    * args.nucleation_scale)),\n",
    "                                  axis=-1)\n",
    "else:\n",
    "    nucleii = None\n",
    "nucleii = parallelComm.bcast(nucleii, root=0)"
   ]
  },
  {
   "cell_type": "markdown",
   "metadata": {},
   "source": [
    "## Setup output"
   ]
  },
  {
   "cell_type": "markdown",
   "metadata": {},
   "source": [
    "### Setup ouput storage"
   ]
  },
  {
   "cell_type": "code",
   "execution_count": 258,
   "metadata": {
    "ExecuteTime": {
     "end_time": "2019-10-13T11:27:57.903813Z",
     "start_time": "2019-10-13T11:27:55.983663Z"
    },
    "tags": []
   },
   "outputs": [
    {
     "name": "stdout",
     "output_type": "stream",
     "text": [
      "storing results in nucleation16\n"
     ]
    }
   ],
   "source": [
    "if (args.output is not None) and (parallelComm.procID == 0):\n",
    "    if args.store_by_solver:\n",
    "        suite = solver.__module__.split('.')[2]\n",
    "        if args.preconditioner is None:\n",
    "            preconditioner_name = \"none\"\n",
    "        else:\n",
    "            preconditioner_name = precon.__class__.__name__\n",
    "        path = os.path.join(args.output, suite,\n",
    "                            solver.__class__.__name__,\n",
    "                            preconditioner_name,\n",
    "                            str(nx * ny))\n",
    "    else:\n",
    "        path = args.output\n",
    "\n",
    "    os.makedirs(path)\n",
    "\n",
    "if parallelComm.procID == 0:\n",
    "    print(\"storing results in {0}\".format(path))"
   ]
  },
  {
   "cell_type": "markdown",
   "metadata": {},
   "source": [
    "### Create particle counter"
   ]
  },
  {
   "cell_type": "code",
   "execution_count": 259,
   "metadata": {},
   "outputs": [],
   "source": [
    "from scipy import ndimage\n",
    "\n",
    "class LabelVariable(fp.CellVariable):\n",
    "    \"\"\"Label features in `var` using scipy.ndimage.label\n",
    "    \n",
    "    Parameters\n",
    "    ----------\n",
    "    var : ~fipy.variables.cellVariable.CellVariable\n",
    "        Field to be labeled. Any values equal to or greater than `threshold`\n",
    "        are counted as features and values below are considered the background.\n",
    "        \n",
    "        .. important:\n",
    "           Only sensible if `var` is defined on a `...Grid...` Mesh.\n",
    "    structure : array_like, optional\n",
    "        A structuring element that defines feature connections.\n",
    "        `structure` must be centrosymmetric\n",
    "        (see ```scipy.ndimage.label`` Notes\n",
    "        <https://docs.scipy.org/doc/scipy/reference/generated/scipy.ndimage.label.html#scipy.ndimage.label>`_).\n",
    "        If no structuring element is provided,\n",
    "        one is automatically generated with a squared connectivity equal to\n",
    "        one.  That is, for a 2-D `input` array, the default structuring element\n",
    "        is::\n",
    "            [[0,1,0],\n",
    "             [1,1,1],\n",
    "             [0,1,0]]\n",
    "    threshold : float, optional\n",
    "        Boundary value between features (inclusive) and background.\n",
    "    dtype : date-type, optional\n",
    "        The desired data-type for the labels. Note that the type must be able\n",
    "        to store the largest label, or this Variable will raise an Exception.\n",
    "        Default: int.\n",
    "    \"\"\"\n",
    "    def __init__(self, var, structure=None, threshold=0.5, dtype=int):\n",
    "        # We want our value to hold dtype,\n",
    "        # but if we pass an array, the CellVariable\n",
    "        # will probably be wonky\n",
    "        value = fp.numerix.array(0.).astype(dtype).item()\n",
    "        fp.CellVariable.__init__(self,\n",
    "                                 mesh=var.mesh,\n",
    "                                 value=value,\n",
    "                                 elementshape=var.shape[:-1])\n",
    "        self.var = self._requires(var)\n",
    "        self.structure = structure\n",
    "        self.threshold = threshold\n",
    "        self.dtype = dtype\n",
    "        self._num_features = None\n",
    "    \n",
    "    def _calcValue(self):\n",
    "        \"\"\"Label features of `var`\n",
    "        \n",
    "        Side-effect: sets self._num_features\n",
    "        \"\"\"\n",
    "        arr = (self.var.globalValue > self.threshold).astype(self.dtype)\n",
    "        shape = (self.var.mesh.args['nx'], self.var.mesh.args['ny'])\n",
    "        arr = arr.reshape(shape)\n",
    "        self._num_features = ndimage.label(input=arr,\n",
    "                                           structure=self.structure,\n",
    "                                           output=arr)\n",
    "        return arr.flat\n",
    "        \n",
    "    @property\n",
    "    def num_features(self):\n",
    "        \"\"\"How many objects were found\n",
    "        \"\"\"\n",
    "        if self.stale or not self._isCached() or self._num_features is None:\n",
    "            self._getValue()\n",
    "\n",
    "        return self._num_features"
   ]
  },
  {
   "cell_type": "code",
   "execution_count": 260,
   "metadata": {},
   "outputs": [],
   "source": [
    "labels = LabelVariable(phi, threshold=0.5)"
   ]
  },
  {
   "cell_type": "code",
   "execution_count": 261,
   "metadata": {},
   "outputs": [
    {
     "data": {
      "image/png": "[encoded data removed]",
      "text/plain": [
       "<fipy.viewers.matplotlibViewer.matplotlib2DGridViewer.Matplotlib2DGridViewer at 0x17f39bb80>"
      ]
     },
     "metadata": {},
     "output_type": "display_data"
    },
    {
     "data": {
      "image/png": "[encoded data removed]",
      "text/plain": [
       "<Figure size 360x288 with 2 Axes>"
      ]
     },
     "metadata": {
      "needs_background": "light"
     },
     "output_type": "display_data"
    }
   ],
   "source": [
    "if isnotebook:\n",
    "    labelViewer = fp.Viewer(vars=labels, datamin=0, datamax=25)\n",
    "    labelViewer.plot()"
   ]
  },
  {
   "cell_type": "markdown",
   "metadata": {},
   "source": [
    "### Define output routines"
   ]
  },
  {
   "cell_type": "code",
   "execution_count": 262,
   "metadata": {
    "ExecuteTime": {
     "end_time": "2019-10-13T11:27:57.917659Z",
     "start_time": "2019-10-13T11:27:57.907449Z"
    }
   },
   "outputs": [],
   "source": [
    "def saveStats(elapsed):\n",
    "    if parallelComm.procID == 0:\n",
    "        fname = os.path.join(path, 'stats.txt')\n",
    "        if os.path.exists(fname):\n",
    "            # backup before overwrite\n",
    "            os.rename(fname, fname + \".save\")\n",
    "        try:\n",
    "            nmx.savetxt(fname,\n",
    "                        stats,\n",
    "                        delimiter=\"\\t\",\n",
    "                        comments='',\n",
    "                        header=\"\\t\".join([\"time\", \"fraction\", \"particle_count\", \"energy\"]))\n",
    "        except:\n",
    "            # restore from backup\n",
    "            os.rename(fname + \".save\", fname)\n",
    "        if os.path.exists(fname + \".save\"):\n",
    "            os.remove(fname + \".save\")\n",
    "\n",
    "def current_stats(elapsed):\n",
    "    return [float(x) for x in [elapsed, phi.cellVolumeAverage, labels.num_features, F]]\n",
    "\n",
    "def savePhi(elapsed):\n",
    "    phi_value = phi.globalValue.reshape((nx, ny))\n",
    "    if parallelComm.procID == 0:\n",
    "        fname = os.path.join(path, \"t={}.npz\".format(elapsed))\n",
    "        nmx.savez(fname, phi=phi_value)\n",
    "\n",
    "def checkpoint_data(elapsed):\n",
    "    saveStats(elapsed)\n",
    "    savePhi(elapsed)"
   ]
  },
  {
   "cell_type": "markdown",
   "metadata": {},
   "source": [
    "### Output initial condition"
   ]
  },
  {
   "cell_type": "markdown",
   "metadata": {},
   "source": [
    "### Figure out when to save"
   ]
  },
  {
   "cell_type": "code",
   "execution_count": 263,
   "metadata": {
    "ExecuteTime": {
     "end_time": "2019-10-13T11:27:57.929625Z",
     "start_time": "2019-10-13T11:27:57.922003Z"
    },
    "code_folding": [
     2
    ]
   },
   "outputs": [],
   "source": [
    "checkpoints = (fp.numerix.arange(int(elapsed / args.checkpoint_interval),\n",
    "                                 int(args.totaltime / args.checkpoint_interval))\n",
    "               + 1) * args.checkpoint_interval\n",
    "\n",
    "checkpoints.sort()"
   ]
  },
  {
   "cell_type": "code",
   "execution_count": 264,
   "metadata": {
    "ExecuteTime": {
     "end_time": "2019-10-13T11:27:57.995434Z",
     "start_time": "2019-10-13T11:27:57.934002Z"
    }
   },
   "outputs": [],
   "source": [
    "if args.restart is not None:\n",
    "    fname = os.path.join(os.path.dirname(args.restart), \"stats.txt\")\n",
    "    stats = nmx.loadtxt(fname, skiprows=1)\n",
    "    stats = stats[stats[..., 0] <= elapsed].tolist()\n",
    "else:\n",
    "    stats = []\n",
    "    stats.append(current_stats(elapsed))\n",
    "\n",
    "checkpoint_data(elapsed)\n",
    "    \n",
    "if parallelComm.procID == 0:\n",
    "    nmx.save(os.path.join(path, 'nucleii.npy'), nucleii, allow_pickle=False)"
   ]
  },
  {
   "cell_type": "markdown",
   "metadata": {},
   "source": [
    "## Solve and output"
   ]
  },
  {
   "cell_type": "code",
   "execution_count": 265,
   "metadata": {
    "ExecuteTime": {
     "end_time": "2019-10-13T11:27:58.004270Z",
     "start_time": "2019-10-13T11:27:57.999215Z"
    }
   },
   "outputs": [],
   "source": [
    "times = fp.tools.concatenate([checkpoints, nucleii[..., 0]])\n",
    "times.sort()\n",
    "times = times[(times > elapsed) & (times <= args.totaltime)]"
   ]
  },
  {
   "cell_type": "code",
   "execution_count": 266,
   "metadata": {
    "ExecuteTime": {
     "end_time": "2019-10-13T11:29:26.493420Z",
     "start_time": "2019-10-13T11:27:58.008465Z"
    }
   },
   "outputs": [
    {
     "data": {
      "image/png": "[encoded data removed]",
      "text/plain": [
       "<fipy.viewers.matplotlibViewer.matplotlib2DGridViewer.Matplotlib2DGridViewer at 0x17df14880>"
      ]
     },
     "metadata": {},
     "output_type": "display_data"
    },
    {
     "data": {
      "text/plain": [
       "<Figure size 432x288 with 0 Axes>"
      ]
     },
     "metadata": {},
     "output_type": "display_data"
    }
   ],
   "source": [
    "from steppyngstounes import CheckpointStepper, FixedStepper\n",
    "\n",
    "phi.updateOld()\n",
    "for checkpoint in CheckpointStepper(start=elapsed,\n",
    "                                    stops=times,\n",
    "                                    stop=args.totaltime):\n",
    "\n",
    "    for step in FixedStepper(start=checkpoint.begin,\n",
    "                             stop=checkpoint.end,\n",
    "                             size=1.):\n",
    "\n",
    "        for sweep in range(args.sweeps):\n",
    "            res = eq.sweep(var=phi, dt=step.size)\n",
    "\n",
    "        phi.updateOld()\n",
    "        stats.append(current_stats(step.end))\n",
    "\n",
    "        _ = step.succeeded(error=res / 1e-3)\n",
    "\n",
    "    for tt, xx, yy in nucleii[nucleii[..., 0] == checkpoint.end]:\n",
    "        phi.setValue(phi + nucleus(x0=xx, y0=yy, r0=args.factor * 2))\n",
    "        phi.setValue(1., where=phi > 1.)\n",
    "        phi.updateOld()\n",
    "\n",
    "    if checkpoint.end in checkpoints:\n",
    "        # don't save nucleation events?\n",
    "        checkpoint_data(checkpoint.end)\n",
    "\n",
    "    if isnotebook:\n",
    "        viewer.plot()\n",
    "        # labelViewer.plot()\n",
    "\n",
    "    _ = checkpoint.succeeded()"
   ]
  },
  {
   "cell_type": "code",
   "execution_count": null,
   "metadata": {},
   "outputs": [],
   "source": [
    "checkpoint.end"
   ]
  },
  {
   "cell_type": "code",
   "execution_count": null,
   "metadata": {},
   "outputs": [],
   "source": []
  },
  {
   "cell_type": "code",
   "execution_count": null,
   "metadata": {},
   "outputs": [],
   "source": []
  },
  {
   "cell_type": "code",
   "execution_count": null,
   "metadata": {},
   "outputs": [],
   "source": []
  },
  {
   "cell_type": "code",
   "execution_count": null,
   "metadata": {},
   "outputs": [],
   "source": []
  }
 ],
 "metadata": {
  "kernelspec": {
   "display_name": "Python 3 (ipykernel)",
   "language": "python",
   "name": "python3"
  },
  "language_info": {
   "codemirror_mode": {
    "name": "ipython",
    "version": 3
   },
   "file_extension": ".py",
   "mimetype": "text/x-python",
   "name": "python",
   "nbconvert_exporter": "python",
   "pygments_lexer": "ipython3",
   "version": "3.10.4"
  },
  "toc": {
   "base_numbering": "1",
   "nav_menu": {},
   "number_sections": false,
   "sideBar": true,
   "skip_h1_title": false,
   "title_cell": "Table of Contents",
   "title_sidebar": "Contents",
   "toc_cell": false,
   "toc_position": {
    "height": "calc(100% - 180px)",
    "left": "10px",
    "top": "150px",
    "width": "299.091px"
   },
   "toc_section_display": true,
   "toc_window_display": true
  }
 },
 "nbformat": 4,
 "nbformat_minor": 4
}
